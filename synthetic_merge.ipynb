{
 "cells": [
  {
   "cell_type": "code",
   "execution_count": 86,
   "metadata": {},
   "outputs": [],
   "source": [
    "import cudf\n",
    "import numpy as np\n",
    "import pandas as pd\n",
    "import re\n",
    "import time\n",
    "import spotify\n",
    "import spotipy\n",
    "import configparser\n",
    "from spotipy.oauth2 import SpotifyClientCredentials"
   ]
  },
  {
   "cell_type": "code",
   "execution_count": 87,
   "metadata": {},
   "outputs": [],
   "source": [
    "million_song_df = pd.read_csv(\"data/million_song_dataset.csv\")\n",
    "synthetic_df = pd.read_csv(\"data/dataset_v2.csv\")"
   ]
  },
  {
   "cell_type": "code",
   "execution_count": 9,
   "metadata": {},
   "outputs": [
    {
     "data": {
      "text/plain": [
       "Index(['user_id', 'age', 'education', 'gender', 'name', 'country', 'music',\n",
       "       'artist_name', 'featured_artists', 'genre', 'plays',\n",
       "       'artiste_popularity', 'audio_popularity', 'music_acousticness',\n",
       "       'danceability', 'energy', 'key', 'loudness', 'mode', 'speechiness',\n",
       "       'instrumentalness', 'liveness', 'valence', 'tempo', 'time_signature',\n",
       "       'track_genre', 'release_date', 'explicit', 'duration', 'music_id',\n",
       "       'id_artists', 'followers'],\n",
       "      dtype='object')"
      ]
     },
     "execution_count": 9,
     "metadata": {},
     "output_type": "execute_result"
    }
   ],
   "source": [
    "synthetic_df.columns"
   ]
  },
  {
   "cell_type": "code",
   "execution_count": 10,
   "metadata": {},
   "outputs": [],
   "source": [
    "synthetic_df = synthetic_df.drop(\n",
    "    columns=[\n",
    "        \"name\",\n",
    "        \"plays\",\n",
    "        \"audio_popularity\",\n",
    "        \"artiste_popularity\",\n",
    "        \"track_genre\",\n",
    "        \"followers\",\n",
    "    ]\n",
    ")"
   ]
  },
  {
   "cell_type": "code",
   "execution_count": 11,
   "metadata": {},
   "outputs": [
    {
     "data": {
      "text/plain": [
       "Index(['track_id', 'name', 'album', 'album_id', 'artists', 'artist_ids',\n",
       "       'track_number', 'disc_number', 'explicit', 'danceability', 'energy',\n",
       "       'key', 'loudness', 'mode', 'speechiness', 'acousticness',\n",
       "       'instrumentalness', 'liveness', 'valence', 'tempo', 'duration_ms',\n",
       "       'time_signature', 'year', 'release_date'],\n",
       "      dtype='object')"
      ]
     },
     "execution_count": 11,
     "metadata": {},
     "output_type": "execute_result"
    }
   ],
   "source": [
    "million_song_df.columns"
   ]
  },
  {
   "cell_type": "code",
   "execution_count": 13,
   "metadata": {},
   "outputs": [
    {
     "data": {
      "text/plain": [
       "Index(['track_id', 'music', 'album', 'album_id', 'artists', 'artist_ids',\n",
       "       'track_number', 'disc_number', 'explicit', 'danceability', 'energy',\n",
       "       'key', 'loudness', 'mode', 'speechiness', 'acousticness',\n",
       "       'instrumentalness', 'liveness', 'valence', 'tempo', 'duration_ms',\n",
       "       'time_signature', 'year', 'release_date'],\n",
       "      dtype='object')"
      ]
     },
     "execution_count": 13,
     "metadata": {},
     "output_type": "execute_result"
    }
   ],
   "source": [
    "msd_df = million_song_df.copy()\n",
    "\n",
    "msd_df.rename(columns={\"name\": \"music\"}, inplace=True)\n",
    "\n",
    "msd_df.columns"
   ]
  },
  {
   "cell_type": "code",
   "execution_count": 18,
   "metadata": {},
   "outputs": [
    {
     "data": {
      "text/plain": [
       "Index(['user_id', 'age', 'education', 'gender', 'country', 'music',\n",
       "       'artist_name', 'featured_artists', 'genre', 'acousticness',\n",
       "       'danceability', 'energy', 'key', 'loudness', 'mode', 'speechiness',\n",
       "       'instrumentalness', 'liveness', 'valence', 'tempo', 'time_signature',\n",
       "       'release_date', 'explicit', 'duration', 'music_id', 'id_artists'],\n",
       "      dtype='object')"
      ]
     },
     "execution_count": 18,
     "metadata": {},
     "output_type": "execute_result"
    }
   ],
   "source": [
    "synthetic_df.rename(columns={\"music_acousticness\": \"acousticness\"}, inplace=True)\n",
    "synthetic_df.columns"
   ]
  },
  {
   "cell_type": "code",
   "execution_count": 19,
   "metadata": {},
   "outputs": [
    {
     "name": "stdout",
     "output_type": "stream",
     "text": [
      "Index(['acousticness', 'danceability', 'energy', 'key', 'loudness', 'mode',\n",
      "       'speechiness', 'instrumentalness', 'liveness', 'valence', 'tempo',\n",
      "       'time_signature', 'release_date', 'explicit'],\n",
      "      dtype='object')\n"
     ]
    }
   ],
   "source": [
    "# print columns both datasets have in common\n",
    "common_columns = synthetic_df.columns.intersection(million_song_df.columns)\n",
    "print(common_columns)"
   ]
  },
  {
   "cell_type": "code",
   "execution_count": 20,
   "metadata": {},
   "outputs": [
    {
     "name": "stdout",
     "output_type": "stream",
     "text": [
      "length of synthetic_df: 35001\n",
      "length of msd_df: 1204025\n"
     ]
    }
   ],
   "source": [
    "print(f\"length of synthetic_df: {len(synthetic_df)}\\nlength of msd_df: {len(msd_df)}\")"
   ]
  },
  {
   "cell_type": "code",
   "execution_count": 21,
   "metadata": {},
   "outputs": [
    {
     "data": {
      "text/plain": [
       "['music',\n",
       " 'acousticness',\n",
       " 'danceability',\n",
       " 'energy',\n",
       " 'key',\n",
       " 'loudness',\n",
       " 'mode',\n",
       " 'speechiness',\n",
       " 'instrumentalness',\n",
       " 'liveness',\n",
       " 'valence',\n",
       " 'tempo',\n",
       " 'time_signature',\n",
       " 'release_date',\n",
       " 'explicit']"
      ]
     },
     "execution_count": 21,
     "metadata": {},
     "output_type": "execute_result"
    }
   ],
   "source": [
    "# matched cols\n",
    "matched_cols = []\n",
    "\n",
    "for col in synthetic_df.columns:\n",
    "    if col in msd_df.columns:\n",
    "        matched_cols.append(col)\n",
    "\n",
    "matched_cols\n",
    "\n",
    "# for each column in synthetic_df, by \"music\" replace the values of the column with the values of the column in msd_df"
   ]
  },
  {
   "cell_type": "code",
   "execution_count": 22,
   "metadata": {},
   "outputs": [
    {
     "name": "stdout",
     "output_type": "stream",
     "text": [
      "yes\n"
     ]
    }
   ],
   "source": [
    "if matched_cols[0] in synthetic_df.columns and matched_cols[0] in msd_df.columns:\n",
    "    print(\"yes\")"
   ]
  },
  {
   "cell_type": "code",
   "execution_count": 23,
   "metadata": {},
   "outputs": [],
   "source": [
    "synthetic_modified_df = synthetic_df.copy()"
   ]
  },
  {
   "cell_type": "code",
   "execution_count": 24,
   "metadata": {},
   "outputs": [
    {
     "data": {
      "text/plain": [
       "(35001, 26)"
      ]
     },
     "execution_count": 24,
     "metadata": {},
     "output_type": "execute_result"
    }
   ],
   "source": [
    "synthetic_modified_df.shape"
   ]
  },
  {
   "cell_type": "code",
   "execution_count": 25,
   "metadata": {},
   "outputs": [],
   "source": [
    "synthetic_modified_df.drop(columns=matched_cols[1:], inplace=True)"
   ]
  },
  {
   "cell_type": "code",
   "execution_count": 26,
   "metadata": {},
   "outputs": [
    {
     "data": {
      "text/plain": [
       "(35001, 12)"
      ]
     },
     "execution_count": 26,
     "metadata": {},
     "output_type": "execute_result"
    }
   ],
   "source": [
    "synthetic_modified_df.shape"
   ]
  },
  {
   "cell_type": "code",
   "execution_count": 27,
   "metadata": {},
   "outputs": [
    {
     "name": "stdout",
     "output_type": "stream",
     "text": [
      "====================================================================================================\n",
      "Columns in million_song_df: Index(['track_id', 'name', 'album', 'album_id', 'artists', 'artist_ids',\n",
      "       'track_number', 'disc_number', 'explicit', 'danceability', 'energy',\n",
      "       'key', 'loudness', 'mode', 'speechiness', 'acousticness',\n",
      "       'instrumentalness', 'liveness', 'valence', 'tempo', 'duration_ms',\n",
      "       'time_signature', 'year', 'release_date'],\n",
      "      dtype='object')\n",
      "====================================================================================================\n",
      "Columns in synthetic_df: Index(['user_id', 'age', 'education', 'gender', 'country', 'music',\n",
      "       'artist_name', 'featured_artists', 'genre', 'acousticness',\n",
      "       'danceability', 'energy', 'key', 'loudness', 'mode', 'speechiness',\n",
      "       'instrumentalness', 'liveness', 'valence', 'tempo', 'time_signature',\n",
      "       'release_date', 'explicit', 'duration', 'music_id', 'id_artists'],\n",
      "      dtype='object')\n"
     ]
    }
   ],
   "source": [
    "# Step 1: Verify column names in both DataFrames\n",
    "print(\"=\" * 100)\n",
    "print(\"Columns in million_song_df:\", million_song_df.columns)\n",
    "print(\"=\" * 100)\n",
    "print(\"Columns in synthetic_df:\", synthetic_modified_df.columns)"
   ]
  },
  {
   "cell_type": "code",
   "execution_count": 36,
   "metadata": {},
   "outputs": [
    {
     "data": {
      "text/plain": [
       "0                                             Bank Account\n",
       "1        Mo Money Mo Problems (feat. Mase & Puff Daddy)...\n",
       "2                                             Little Talks\n",
       "3                                            Wherever I Go\n",
       "4                                          Hands To Myself\n",
       "                               ...                        \n",
       "34996                                          Fuiste Mala\n",
       "34997                                        Take You Down\n",
       "34998                                          We Fly High\n",
       "34999                                          Radioactive\n",
       "35000           Everybody (Backstreet's Back) - Radio Edit\n",
       "Name: music, Length: 35001, dtype: object"
      ]
     },
     "execution_count": 36,
     "metadata": {},
     "output_type": "execute_result"
    }
   ],
   "source": [
    "synthetic_df[\"music\"]"
   ]
  },
  {
   "cell_type": "code",
   "execution_count": 69,
   "metadata": {},
   "outputs": [],
   "source": [
    "audio_features = msd_df[\n",
    "    [\n",
    "        \"music\",\n",
    "        \"album\",\n",
    "        \"acousticness\",\n",
    "        \"danceability\",\n",
    "        \"energy\",\n",
    "        \"key\",\n",
    "        \"loudness\",\n",
    "        \"mode\",\n",
    "        \"speechiness\",\n",
    "        \"instrumentalness\",\n",
    "        \"liveness\",\n",
    "        \"valence\",\n",
    "        \"tempo\",\n",
    "        \"time_signature\",\n",
    "        \"release_date\",\n",
    "        \"explicit\",\n",
    "    ]\n",
    "]"
   ]
  },
  {
   "cell_type": "code",
   "execution_count": 72,
   "metadata": {},
   "outputs": [],
   "source": [
    "# Define aggregation functions\n",
    "agg_funcs = {\n",
    "    # \"album\": lambda x: x.mode()[0] if not x.empty else None,  # Most frequent album\n",
    "    \"acousticness\": \"mean\",\n",
    "    \"danceability\": \"mean\",\n",
    "    \"energy\": \"mean\",\n",
    "    \"key\": lambda x: x.mode()[0],  # Most frequent key\n",
    "    \"loudness\": \"mean\",\n",
    "    \"mode\": lambda x: x.mode()[0],  # Most frequent mode\n",
    "    \"speechiness\": \"mean\",\n",
    "    \"instrumentalness\": \"mean\",\n",
    "    \"liveness\": \"mean\",\n",
    "    \"valence\": \"mean\",\n",
    "    \"tempo\": \"mean\",\n",
    "    \"time_signature\": lambda x: x.mode()[0],  # Most frequent time signature\n",
    "    \"release_date\": \"min\",  # Earliest release date\n",
    "    \"explicit\": lambda x: x.mode()[0],  # Most frequent explicit value\n",
    "}\n",
    "\n",
    "# Aggregate audio features by 'music'\n",
    "aggregated_audio_features = audio_features.groupby('music').agg(agg_funcs).reset_index()"
   ]
  },
  {
   "cell_type": "code",
   "execution_count": 75,
   "metadata": {},
   "outputs": [
    {
     "name": "stdout",
     "output_type": "stream",
     "text": [
      "Merged Shape: (19974, 26)\n"
     ]
    }
   ],
   "source": [
    "# Merge datasets on a common key (e.g., 'music') using an inner join\n",
    "merged_data = pd.merge(synthetic_modified_df, aggregated_audio_features, on='music', how='inner')\n",
    "\n",
    "# Check the shape of the merged dataset\n",
    "print(f\"Merged Shape: {merged_data.shape}\")\n"
   ]
  },
  {
   "cell_type": "markdown",
   "metadata": {},
   "source": [
    "using inner joins result in a loss of 15,027 records"
   ]
  },
  {
   "cell_type": "code",
   "execution_count": 90,
   "metadata": {},
   "outputs": [],
   "source": [
    "# Save the enriched dataset\n",
    "merged_data.to_csv('data/enriched_synthetic_data.csv', index=False)"
   ]
  },
  {
   "cell_type": "code",
   "execution_count": 68,
   "metadata": {},
   "outputs": [
    {
     "data": {
      "text/html": [
       "<div>\n",
       "<style scoped>\n",
       "    .dataframe tbody tr th:only-of-type {\n",
       "        vertical-align: middle;\n",
       "    }\n",
       "\n",
       "    .dataframe tbody tr th {\n",
       "        vertical-align: top;\n",
       "    }\n",
       "\n",
       "    .dataframe thead th {\n",
       "        text-align: right;\n",
       "    }\n",
       "</style>\n",
       "<table border=\"1\" class=\"dataframe\">\n",
       "  <thead>\n",
       "    <tr style=\"text-align: right;\">\n",
       "      <th></th>\n",
       "      <th>music</th>\n",
       "      <th>acousticness</th>\n",
       "      <th>danceability</th>\n",
       "      <th>energy</th>\n",
       "      <th>key</th>\n",
       "      <th>loudness</th>\n",
       "      <th>mode</th>\n",
       "      <th>speechiness</th>\n",
       "      <th>instrumentalness</th>\n",
       "      <th>liveness</th>\n",
       "      <th>valence</th>\n",
       "      <th>tempo</th>\n",
       "    </tr>\n",
       "  </thead>\n",
       "  <tbody>\n",
       "    <tr>\n",
       "      <th>0</th>\n",
       "      <td>!</td>\n",
       "      <td>0.099392</td>\n",
       "      <td>0.464</td>\n",
       "      <td>0.634667</td>\n",
       "      <td>6.0</td>\n",
       "      <td>-11.632667</td>\n",
       "      <td>0.666667</td>\n",
       "      <td>0.0483</td>\n",
       "      <td>0.771333</td>\n",
       "      <td>0.2330</td>\n",
       "      <td>0.370</td>\n",
       "      <td>125.956</td>\n",
       "    </tr>\n",
       "    <tr>\n",
       "      <th>1</th>\n",
       "      <td>!!! - Interlude</td>\n",
       "      <td>0.908000</td>\n",
       "      <td>0.000</td>\n",
       "      <td>0.035400</td>\n",
       "      <td>7.0</td>\n",
       "      <td>-20.151000</td>\n",
       "      <td>0.000000</td>\n",
       "      <td>0.0000</td>\n",
       "      <td>0.000000</td>\n",
       "      <td>0.4790</td>\n",
       "      <td>0.000</td>\n",
       "      <td>0.000</td>\n",
       "    </tr>\n",
       "    <tr>\n",
       "      <th>2</th>\n",
       "      <td>!!!Si!!!</td>\n",
       "      <td>0.011700</td>\n",
       "      <td>0.381</td>\n",
       "      <td>0.894000</td>\n",
       "      <td>11.0</td>\n",
       "      <td>-6.007000</td>\n",
       "      <td>0.000000</td>\n",
       "      <td>0.0530</td>\n",
       "      <td>0.877000</td>\n",
       "      <td>0.1160</td>\n",
       "      <td>0.558</td>\n",
       "      <td>101.124</td>\n",
       "    </tr>\n",
       "    <tr>\n",
       "      <th>3</th>\n",
       "      <td>!!De Repente!!</td>\n",
       "      <td>0.049800</td>\n",
       "      <td>0.658</td>\n",
       "      <td>0.887500</td>\n",
       "      <td>5.0</td>\n",
       "      <td>-7.435500</td>\n",
       "      <td>1.000000</td>\n",
       "      <td>0.0398</td>\n",
       "      <td>0.000016</td>\n",
       "      <td>0.0504</td>\n",
       "      <td>0.945</td>\n",
       "      <td>123.594</td>\n",
       "    </tr>\n",
       "    <tr>\n",
       "      <th>4</th>\n",
       "      <td>!(?Galactic!#$Adventure!@#</td>\n",
       "      <td>0.782000</td>\n",
       "      <td>0.615</td>\n",
       "      <td>0.740000</td>\n",
       "      <td>2.0</td>\n",
       "      <td>-8.895000</td>\n",
       "      <td>1.000000</td>\n",
       "      <td>0.0496</td>\n",
       "      <td>0.668000</td>\n",
       "      <td>0.2340</td>\n",
       "      <td>0.331</td>\n",
       "      <td>132.220</td>\n",
       "    </tr>\n",
       "  </tbody>\n",
       "</table>\n",
       "</div>"
      ],
      "text/plain": [
       "                        music  acousticness  danceability    energy   key  \\\n",
       "0                           !      0.099392         0.464  0.634667   6.0   \n",
       "1             !!! - Interlude      0.908000         0.000  0.035400   7.0   \n",
       "2                    !!!Si!!!      0.011700         0.381  0.894000  11.0   \n",
       "3              !!De Repente!!      0.049800         0.658  0.887500   5.0   \n",
       "4  !(?Galactic!#$Adventure!@#      0.782000         0.615  0.740000   2.0   \n",
       "\n",
       "    loudness      mode  speechiness  instrumentalness  liveness  valence  \\\n",
       "0 -11.632667  0.666667       0.0483          0.771333    0.2330    0.370   \n",
       "1 -20.151000  0.000000       0.0000          0.000000    0.4790    0.000   \n",
       "2  -6.007000  0.000000       0.0530          0.877000    0.1160    0.558   \n",
       "3  -7.435500  1.000000       0.0398          0.000016    0.0504    0.945   \n",
       "4  -8.895000  1.000000       0.0496          0.668000    0.2340    0.331   \n",
       "\n",
       "     tempo  \n",
       "0  125.956  \n",
       "1    0.000  \n",
       "2  101.124  \n",
       "3  123.594  \n",
       "4  132.220  "
      ]
     },
     "execution_count": 68,
     "metadata": {},
     "output_type": "execute_result"
    }
   ],
   "source": [
    "aggregated_audio_features.head()"
   ]
  },
  {
   "cell_type": "code",
   "execution_count": 76,
   "metadata": {},
   "outputs": [
    {
     "name": "stdout",
     "output_type": "stream",
     "text": [
      "Synthetic Shape: (35001, 12)\n",
      "Audio Features Shape: (1204025, 16)\n",
      "Merged Shape: (19974, 26)\n"
     ]
    }
   ],
   "source": [
    "print(\n",
    "    f\"Synthetic Shape: {synthetic_modified_df.shape}\\nAudio Features Shape: {audio_features.shape}\\nMerged Shape: {merged_data.shape}\"\n",
    ")"
   ]
  },
  {
   "cell_type": "code",
   "execution_count": 77,
   "metadata": {},
   "outputs": [
    {
     "name": "stdout",
     "output_type": "stream",
     "text": [
      "Duplicate Rows in audio_features: 0\n",
      "Duplicate Rows in Synthetic Data: 0\n"
     ]
    }
   ],
   "source": [
    "# Check for duplicates in audio features\n",
    "print(\n",
    "    f\"Duplicate Rows in audio_features: {aggregated_audio_features.duplicated().sum()}\\nDuplicate Rows in Synthetic Data: {synthetic_modified_df.duplicated().sum()}\"\n",
    ")"
   ]
  },
  {
   "cell_type": "code",
   "execution_count": 83,
   "metadata": {},
   "outputs": [],
   "source": [
    "#  load spotify config information\n",
    "config = configparser.ConfigParser()\n",
    "config.read(\"config.ini\")\n",
    "\n",
    "# Extract the client ID and client secret\n",
    "client_id = config.get(\"SPOTIFY\", \"CLIENT_ID\")\n",
    "client_secret = config.get(\"SPOTIFY\", \"CLIENT_SECRET\")\n"
   ]
  },
  {
   "cell_type": "code",
   "execution_count": 89,
   "metadata": {},
   "outputs": [
    {
     "name": "stdout",
     "output_type": "stream",
     "text": [
      "<spotipy.client.Spotify object at 0x7f3f8533f130>\n"
     ]
    }
   ],
   "source": [
    "# Authenticate with Spotify\n",
    "sp = spotipy.Spotify(auth_manager=SpotifyClientCredentials(client_id=client_id, client_secret=client_secret))\n",
    "print(sp)"
   ]
  },
  {
   "cell_type": "code",
   "execution_count": null,
   "metadata": {},
   "outputs": [],
   "source": [
    "# Authenticate with Spotify\n",
    "sp = spotipy.Spotify(auth_manager=SpotifyClientCredentials(client_id=client_id, client_secret=client_secret))\n",
    "\n",
    "# Function to fetch audio features for a batch of tracks\n",
    "def fetch_audio_features_batch(track_names):\n",
    "    track_ids = []\n",
    "    for track_name in track_names:\n",
    "        try:\n",
    "            results = sp.search(q=track_name, type='track', limit=1)\n",
    "            if results['tracks']['items']:\n",
    "                track_id = results['tracks']['items'][0]['id']\n",
    "                track_ids.append(track_id)\n",
    "        except Exception as e:\n",
    "            print(f\"Error fetching ID for {track_name}: {e}\")\n",
    "    if track_ids:\n",
    "        try:\n",
    "            features = sp.audio_features(track_ids)\n",
    "            return features\n",
    "        except Exception as e:\n",
    "            print(f\"Error fetching features for batch: {e}\")\n",
    "    return []\n",
    "\n",
    "# Load the remaining records\n",
    "remaining_records = synthetic_modified_df[~synthetic_modified_df['music'].isin(merged_data['music'])]\n",
    "\n",
    "# Fetch audio features for remaining records in batches\n",
    "batch_size = 50  # Adjust batch size as needed\n",
    "audio_features_list = []\n",
    "for start in range(0, len(remaining_records), batch_size):\n",
    "    end = start + batch_size\n",
    "    batch = remaining_records.iloc[start:end]\n",
    "    track_names = batch['music'].tolist()\n",
    "    features = fetch_audio_features_batch(track_names)\n",
    "    audio_features_list.extend(features)\n",
    "    # Save progress after each batch\n",
    "    pd.DataFrame(audio_features_list).to_csv('spotify_audio_features_progress.csv', index=False)\n",
    "    print(f\"Processed batch {start // batch_size + 1}\")\n",
    "\n",
    "# Convert the list of audio features to a DataFrame\n",
    "spotify_audio_features = pd.DataFrame(audio_features_list)\n",
    "\n",
    "# Merge the Spotify audio features with the remaining records\n",
    "remaining_records = remaining_records.merge(spotify_audio_features, left_on='music', right_on='id', how='left')\n",
    "\n",
    "# Combine the merged data with the remaining records\n",
    "final_data = pd.concat([merged_data, remaining_records], ignore_index=True)\n",
    "\n",
    "# Save the final enriched dataset\n",
    "final_data.to_csv('final_enriched_synthetic_data.csv', index=False)\n",
    "\n",
    "print(f\"Final Data Shape: {final_data.shape}\")\n"
   ]
  },
  {
   "cell_type": "code",
   "execution_count": null,
   "metadata": {},
   "outputs": [],
   "source": []
  }
 ],
 "metadata": {
  "kernelspec": {
   "display_name": "venv_310",
   "language": "python",
   "name": "python3"
  },
  "language_info": {
   "codemirror_mode": {
    "name": "ipython",
    "version": 3
   },
   "file_extension": ".py",
   "mimetype": "text/x-python",
   "name": "python",
   "nbconvert_exporter": "python",
   "pygments_lexer": "ipython3",
   "version": "3.10.14"
  }
 },
 "nbformat": 4,
 "nbformat_minor": 2
}
