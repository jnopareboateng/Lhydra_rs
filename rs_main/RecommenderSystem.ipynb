{
 "cells": [
  {
   "cell_type": "markdown",
   "metadata": {},
   "source": [
    "# LHydra Recommender System\n",
    "\n",
    "This notebook demonstrates the revised implementation of the ReNeLLM-based recommender system, incorporating the following improvements:\n",
    "\n",
    "1. **Data Preprocessing Pipeline**\n",
    "2. **Consistent Handling of Encoders and Vectorizers**\n",
    "3. **Enhanced Model Training**\n",
    "4. **Improved Inference Function**\n",
    "5. **Optimized Recommendation Generation**\n",
    "\n",
    "---\n"
   ]
  },
  {
   "cell_type": "markdown",
   "metadata": {},
   "source": [
    "## 1. Import Necessary Modules"
   ]
  },
  {
   "cell_type": "code",
   "execution_count": 5,
   "metadata": {},
   "outputs": [],
   "source": [
    "import pandas as pd\n",
    "import torch\n",
    "from preprocessing import DataPreprocessor\n",
    "from tensorflow_docs.model import HybridRecommender\n",
    "from inference import get_recommendations, make_inference\n",
    "import pickle"
   ]
  },
  {
   "cell_type": "markdown",
   "metadata": {},
   "source": [
    "## 2. Load Pretrained Model and Preprocessors"
   ]
  },
  {
   "cell_type": "code",
   "execution_count": 6,
   "metadata": {},
   "outputs": [
    {
     "name": "stdout",
     "output_type": "stream",
     "text": [
      "Artist TF-IDF Shape: (19974, 3995)\n",
      "Total features after encoding: 4013\n",
      "Unique user IDs: 9741\n",
      "Unique artist features: 3995\n",
      "Unique track IDs: 11528\n",
      "Unique genre IDs: 21\n"
     ]
    }
   ],
   "source": [
    "preprocessor = DataPreprocessor()\n",
    "filepath = '../data/cleaned_modv2.csv'\n",
    "data = preprocessor.load_data(filepath)\n",
    "# data\n",
    "data_encoded = preprocessor.encode_features(data)\n",
    "features = preprocessor.feature_engineering(data_encoded)\n",
    "train_features, test_features, train_target, test_target = preprocessor.split_data(features)\n",
    "preprocessor.save_preprocessors(directory='models/')\n",
    "loaded_preprocessor = preprocessor.load_preprocessors(directory='models/')\n",
    "\n"
   ]
  },
  {
   "cell_type": "code",
   "execution_count": 9,
   "metadata": {},
   "outputs": [
    {
     "ename": "TypeError",
     "evalue": "empty(): argument 'size' failed to unpack the object at pos 2 with error \"type must be tuple of ints,but got list\"",
     "output_type": "error",
     "traceback": [
      "\u001b[0;31m---------------------------------------------------------------------------\u001b[0m",
      "\u001b[0;31mTypeError\u001b[0m                                 Traceback (most recent call last)",
      "Cell \u001b[0;32mIn[9], line 22\u001b[0m\n\u001b[1;32m     19\u001b[0m hidden_dims \u001b[38;5;241m=\u001b[39m [\u001b[38;5;241m256\u001b[39m, \u001b[38;5;241m128\u001b[39m, \u001b[38;5;241m64\u001b[39m]\n\u001b[1;32m     20\u001b[0m num_features \u001b[38;5;241m=\u001b[39m train_features\u001b[38;5;241m.\u001b[39mshape[\u001b[38;5;241m1\u001b[39m] \u001b[38;5;241m-\u001b[39m\u001b[38;5;241m2\u001b[39m  \u001b[38;5;66;03m# Adjust based on feature columns\u001b[39;00m\n\u001b[0;32m---> 22\u001b[0m model \u001b[38;5;241m=\u001b[39m \u001b[43mHybridRecommender\u001b[49m\u001b[43m(\u001b[49m\u001b[43mnum_users\u001b[49m\u001b[43m,\u001b[49m\u001b[43m \u001b[49m\u001b[43mnum_items\u001b[49m\u001b[43m,\u001b[49m\u001b[43m \u001b[49m\u001b[43membedding_dim\u001b[49m\u001b[43m,\u001b[49m\u001b[43m \u001b[49m\u001b[43mnum_features\u001b[49m\u001b[43m,\u001b[49m\u001b[43m \u001b[49m\u001b[43mnum_layers\u001b[49m\u001b[43m,\u001b[49m\u001b[43m \u001b[49m\u001b[43mhidden_dims\u001b[49m\u001b[43m,\u001b[49m\u001b[43m \u001b[49m\u001b[43mdropout_prob\u001b[49m\u001b[38;5;241;43m=\u001b[39;49m\u001b[38;5;241;43m0.2\u001b[39;49m\u001b[43m)\u001b[49m\n\u001b[1;32m     23\u001b[0m model\u001b[38;5;241m.\u001b[39mload_state_dict(torch\u001b[38;5;241m.\u001b[39mload(\u001b[38;5;124m'\u001b[39m\u001b[38;5;124mmodels/model.pth\u001b[39m\u001b[38;5;124m'\u001b[39m, map_location\u001b[38;5;241m=\u001b[39mdevice))\n\u001b[1;32m     24\u001b[0m model\u001b[38;5;241m.\u001b[39mto(device)\n",
      "File \u001b[0;32m~/Lhydra_rs/rs_main/model.py:34\u001b[0m, in \u001b[0;36mHybridRecommender.__init__\u001b[0;34m(self, num_users, num_artist_features, num_tracks, num_genres, num_numerical_features, embedding_dim, num_layers, hidden_dims, dropout_prob)\u001b[0m\n\u001b[1;32m     31\u001b[0m \u001b[38;5;28;01mif\u001b[39;00m hidden_dims \u001b[38;5;129;01mis\u001b[39;00m \u001b[38;5;28;01mNone\u001b[39;00m:\n\u001b[1;32m     32\u001b[0m     hidden_dims \u001b[38;5;241m=\u001b[39m [\u001b[38;5;241m256\u001b[39m, \u001b[38;5;241m128\u001b[39m, \u001b[38;5;241m64\u001b[39m]\n\u001b[0;32m---> 34\u001b[0m \u001b[38;5;28mself\u001b[39m\u001b[38;5;241m.\u001b[39muser_embedding \u001b[38;5;241m=\u001b[39m \u001b[43mnn\u001b[49m\u001b[38;5;241;43m.\u001b[39;49m\u001b[43mEmbedding\u001b[49m\u001b[43m(\u001b[49m\u001b[43mnum_users\u001b[49m\u001b[43m,\u001b[49m\u001b[43m \u001b[49m\u001b[43membedding_dim\u001b[49m\u001b[43m)\u001b[49m\n\u001b[1;32m     35\u001b[0m \u001b[38;5;28mself\u001b[39m\u001b[38;5;241m.\u001b[39mtrack_embedding \u001b[38;5;241m=\u001b[39m nn\u001b[38;5;241m.\u001b[39mEmbedding(num_tracks, embedding_dim)\n\u001b[1;32m     36\u001b[0m \u001b[38;5;28mself\u001b[39m\u001b[38;5;241m.\u001b[39mgenre_embedding \u001b[38;5;241m=\u001b[39m nn\u001b[38;5;241m.\u001b[39mEmbedding(num_genres, embedding_dim)\n",
      "File \u001b[0;32m~/anaconda3/envs/ReNeLLM/lib/python3.9/site-packages/torch/nn/modules/sparse.py:144\u001b[0m, in \u001b[0;36mEmbedding.__init__\u001b[0;34m(self, num_embeddings, embedding_dim, padding_idx, max_norm, norm_type, scale_grad_by_freq, sparse, _weight, _freeze, device, dtype)\u001b[0m\n\u001b[1;32m    142\u001b[0m \u001b[38;5;28mself\u001b[39m\u001b[38;5;241m.\u001b[39mscale_grad_by_freq \u001b[38;5;241m=\u001b[39m scale_grad_by_freq\n\u001b[1;32m    143\u001b[0m \u001b[38;5;28;01mif\u001b[39;00m _weight \u001b[38;5;129;01mis\u001b[39;00m \u001b[38;5;28;01mNone\u001b[39;00m:\n\u001b[0;32m--> 144\u001b[0m     \u001b[38;5;28mself\u001b[39m\u001b[38;5;241m.\u001b[39mweight \u001b[38;5;241m=\u001b[39m Parameter(\u001b[43mtorch\u001b[49m\u001b[38;5;241;43m.\u001b[39;49m\u001b[43mempty\u001b[49m\u001b[43m(\u001b[49m\u001b[43m(\u001b[49m\u001b[43mnum_embeddings\u001b[49m\u001b[43m,\u001b[49m\u001b[43m \u001b[49m\u001b[43membedding_dim\u001b[49m\u001b[43m)\u001b[49m\u001b[43m,\u001b[49m\u001b[43m \u001b[49m\u001b[38;5;241;43m*\u001b[39;49m\u001b[38;5;241;43m*\u001b[39;49m\u001b[43mfactory_kwargs\u001b[49m\u001b[43m)\u001b[49m,\n\u001b[1;32m    145\u001b[0m                             requires_grad\u001b[38;5;241m=\u001b[39m\u001b[38;5;129;01mnot\u001b[39;00m _freeze)\n\u001b[1;32m    146\u001b[0m     \u001b[38;5;28mself\u001b[39m\u001b[38;5;241m.\u001b[39mreset_parameters()\n\u001b[1;32m    147\u001b[0m \u001b[38;5;28;01melse\u001b[39;00m:\n",
      "\u001b[0;31mTypeError\u001b[0m: empty(): argument 'size' failed to unpack the object at pos 2 with error \"type must be tuple of ints,but got list\""
     ]
    }
   ],
   "source": [
    "# Load preprocessors\n",
    "# preprocessor = DataPreprocessor()\n",
    "# filepath = '../data/cleaned_modv2.csv'\n",
    "# preprocessor.load_data(filepath=filepath)\n",
    "# preprocessor.encode_features(data=data)\n",
    "# preprocessor.load_preprocessors(directory='models/')\n",
    "\n",
    "\n",
    "# Load encoded data (if saved separately) or load fresh\n",
    "# data_encoded = pd.read_csv(filepath=filepath)  # Update with actual path if different\n",
    "\n",
    "# Load the trained model\n",
    "device = torch.device('cuda' if torch.cuda.is_available() else 'cpu')\n",
    "num_users = len(preprocessor.user_id_encoder.classes_)\n",
    "# num_items = len(preprocessor..classes_)\n",
    "num_items = len(preprocessor.track_encoder.classes_)\n",
    "embedding_dim = 128\n",
    "num_layers = 3\n",
    "hidden_dims = [256, 128, 64]\n",
    "num_features = train_features.shape[1] -2  # Adjust based on feature columns\n",
    "\n",
    "model = HybridRecommender(num_users, num_items, embedding_dim, num_features, num_layers, hidden_dims, dropout_prob=0.2)\n",
    "model.load_state_dict(torch.load('models/model.pth', map_location=device))\n",
    "model.to(device)\n",
    "model.eval()\n",
    "\n",
    "print(\"Model and preprocessors loaded successfully.\")"
   ]
  },
  {
   "cell_type": "code",
   "execution_count": 4,
   "metadata": {},
   "outputs": [
    {
     "data": {
      "text/plain": [
       "6099"
      ]
     },
     "execution_count": 4,
     "metadata": {},
     "output_type": "execute_result"
    }
   ],
   "source": [
    "num_features\n",
    "# train_features.shape[1]"
   ]
  },
  {
   "cell_type": "code",
   "execution_count": 5,
   "metadata": {},
   "outputs": [
    {
     "data": {
      "text/plain": [
       "(19974, 6102)"
      ]
     },
     "execution_count": 5,
     "metadata": {},
     "output_type": "execute_result"
    }
   ],
   "source": [
    "features.shape"
   ]
  },
  {
   "cell_type": "code",
   "execution_count": 6,
   "metadata": {},
   "outputs": [
    {
     "data": {
      "text/plain": [
       "6101"
      ]
     },
     "execution_count": 6,
     "metadata": {},
     "output_type": "execute_result"
    }
   ],
   "source": [
    "train_features.shape[1]"
   ]
  },
  {
   "cell_type": "code",
   "execution_count": 10,
   "metadata": {},
   "outputs": [
    {
     "name": "stdout",
     "output_type": "stream",
     "text": [
      "Train User features shape: (15979, 4012)\n",
      "Train item features shape: (15979, 2)\n"
     ]
    }
   ],
   "source": [
    "user_features = train_features[train_features.columns[:num_features]]\n",
    "item_features = train_features[train_features.columns[num_features:]]\n",
    "user_features.shape, item_features.shape\n",
    "print(f\"Train User features shape: {user_features.shape}\\nTrain item features shape: {item_features.shape}\")"
   ]
  },
  {
   "cell_type": "code",
   "execution_count": 11,
   "metadata": {},
   "outputs": [
    {
     "name": "stdout",
     "output_type": "stream",
     "text": [
      "Test user features shape: (3995, 4012)\n",
      "Test item features shape: (3995, 2)\n"
     ]
    }
   ],
   "source": [
    "test_user_features = test_features[test_features.columns[:num_features]]\n",
    "test_item_features = test_features[test_features.columns[num_features:]]\n",
    "print(f\"Test user features shape: {test_user_features.shape}\\nTest item features shape: {test_item_features.shape}\")"
   ]
  },
  {
   "cell_type": "markdown",
   "metadata": {},
   "source": [
    "## 3. Generate Recommendations for a User"
   ]
  },
  {
   "cell_type": "code",
   "execution_count": 12,
   "metadata": {},
   "outputs": [
    {
     "name": "stdout",
     "output_type": "stream",
     "text": [
      "Random user id: 41166\n"
     ]
    }
   ],
   "source": [
    "random_user_id = data['user_id'].sample(1).values[0]\n",
    "print(f\"Random user id: {random_user_id}\")"
   ]
  },
  {
   "cell_type": "code",
   "execution_count": 13,
   "metadata": {},
   "outputs": [
    {
     "data": {
      "text/html": [
       "<div>\n",
       "<style scoped>\n",
       "    .dataframe tbody tr th:only-of-type {\n",
       "        vertical-align: middle;\n",
       "    }\n",
       "\n",
       "    .dataframe tbody tr th {\n",
       "        vertical-align: top;\n",
       "    }\n",
       "\n",
       "    .dataframe thead th {\n",
       "        text-align: right;\n",
       "    }\n",
       "</style>\n",
       "<table border=\"1\" class=\"dataframe\">\n",
       "  <thead>\n",
       "    <tr style=\"text-align: right;\">\n",
       "      <th></th>\n",
       "      <th>user_id</th>\n",
       "      <th>age</th>\n",
       "      <th>gender</th>\n",
       "      <th>music</th>\n",
       "      <th>artist_name</th>\n",
       "      <th>featured_artists</th>\n",
       "      <th>genre</th>\n",
       "      <th>plays</th>\n",
       "      <th>duration</th>\n",
       "      <th>music_id</th>\n",
       "      <th>...</th>\n",
       "      <th>instrumentalness</th>\n",
       "      <th>liveness</th>\n",
       "      <th>valence</th>\n",
       "      <th>tempo</th>\n",
       "      <th>time_signature</th>\n",
       "      <th>explicit</th>\n",
       "      <th>user_id_encoded</th>\n",
       "      <th>gender_encoded</th>\n",
       "      <th>genre_encoded</th>\n",
       "      <th>track_encoded</th>\n",
       "    </tr>\n",
       "  </thead>\n",
       "  <tbody>\n",
       "    <tr>\n",
       "      <th>10861</th>\n",
       "      <td>41166</td>\n",
       "      <td>64</td>\n",
       "      <td>M</td>\n",
       "      <td>Lay Me Down</td>\n",
       "      <td>Dirty Heads</td>\n",
       "      <td>none</td>\n",
       "      <td>Jazz</td>\n",
       "      <td>909</td>\n",
       "      <td>3.63</td>\n",
       "      <td>4duRCqphyoANSfH8oUl6c2</td>\n",
       "      <td>...</td>\n",
       "      <td>0.042212</td>\n",
       "      <td>0.159155</td>\n",
       "      <td>0.360706</td>\n",
       "      <td>115.661939</td>\n",
       "      <td>4.0</td>\n",
       "      <td>0.0</td>\n",
       "      <td>4069</td>\n",
       "      <td>1</td>\n",
       "      <td>10</td>\n",
       "      <td>6876</td>\n",
       "    </tr>\n",
       "    <tr>\n",
       "      <th>10862</th>\n",
       "      <td>41166</td>\n",
       "      <td>64</td>\n",
       "      <td>M</td>\n",
       "      <td>Astronaut</td>\n",
       "      <td>Sir Sly</td>\n",
       "      <td>none</td>\n",
       "      <td>Classical</td>\n",
       "      <td>291</td>\n",
       "      <td>3.74</td>\n",
       "      <td>3q5Zm5NnYcpXKLNmTO1tyo</td>\n",
       "      <td>...</td>\n",
       "      <td>0.137100</td>\n",
       "      <td>0.137337</td>\n",
       "      <td>0.361295</td>\n",
       "      <td>124.700947</td>\n",
       "      <td>4.0</td>\n",
       "      <td>0.0</td>\n",
       "      <td>4069</td>\n",
       "      <td>1</td>\n",
       "      <td>2</td>\n",
       "      <td>5665</td>\n",
       "    </tr>\n",
       "    <tr>\n",
       "      <th>10863</th>\n",
       "      <td>41166</td>\n",
       "      <td>64</td>\n",
       "      <td>M</td>\n",
       "      <td>Pretty Brown Eyes</td>\n",
       "      <td>Cody Simpson</td>\n",
       "      <td>none</td>\n",
       "      <td>Rock</td>\n",
       "      <td>541</td>\n",
       "      <td>2.80</td>\n",
       "      <td>5BHWQ78pw9yIjIWa6p1z6G</td>\n",
       "      <td>...</td>\n",
       "      <td>0.000000</td>\n",
       "      <td>0.111400</td>\n",
       "      <td>0.732000</td>\n",
       "      <td>87.388500</td>\n",
       "      <td>4.0</td>\n",
       "      <td>0.0</td>\n",
       "      <td>4069</td>\n",
       "      <td>1</td>\n",
       "      <td>17</td>\n",
       "      <td>7626</td>\n",
       "    </tr>\n",
       "    <tr>\n",
       "      <th>10864</th>\n",
       "      <td>41166</td>\n",
       "      <td>64</td>\n",
       "      <td>M</td>\n",
       "      <td>Boo</td>\n",
       "      <td>2 Chainz</td>\n",
       "      <td>JP Cooper, Alec Benjamin</td>\n",
       "      <td>Hip-Hop</td>\n",
       "      <td>530</td>\n",
       "      <td>4.38</td>\n",
       "      <td>7bf70LmWt3EJ8ZOGGQvkUV</td>\n",
       "      <td>...</td>\n",
       "      <td>0.437899</td>\n",
       "      <td>0.310714</td>\n",
       "      <td>0.392514</td>\n",
       "      <td>148.443286</td>\n",
       "      <td>4.0</td>\n",
       "      <td>0.0</td>\n",
       "      <td>4069</td>\n",
       "      <td>1</td>\n",
       "      <td>9</td>\n",
       "      <td>10939</td>\n",
       "    </tr>\n",
       "  </tbody>\n",
       "</table>\n",
       "<p>4 rows × 28 columns</p>\n",
       "</div>"
      ],
      "text/plain": [
       "       user_id  age gender              music   artist_name  \\\n",
       "10861    41166   64      M        Lay Me Down   Dirty Heads   \n",
       "10862    41166   64      M          Astronaut       Sir Sly   \n",
       "10863    41166   64      M  Pretty Brown Eyes  Cody Simpson   \n",
       "10864    41166   64      M                Boo      2 Chainz   \n",
       "\n",
       "               featured_artists      genre  plays  duration  \\\n",
       "10861                      none       Jazz    909      3.63   \n",
       "10862                      none  Classical    291      3.74   \n",
       "10863                      none       Rock    541      2.80   \n",
       "10864  JP Cooper, Alec Benjamin    Hip-Hop    530      4.38   \n",
       "\n",
       "                     music_id  ... instrumentalness  liveness   valence  \\\n",
       "10861  4duRCqphyoANSfH8oUl6c2  ...         0.042212  0.159155  0.360706   \n",
       "10862  3q5Zm5NnYcpXKLNmTO1tyo  ...         0.137100  0.137337  0.361295   \n",
       "10863  5BHWQ78pw9yIjIWa6p1z6G  ...         0.000000  0.111400  0.732000   \n",
       "10864  7bf70LmWt3EJ8ZOGGQvkUV  ...         0.437899  0.310714  0.392514   \n",
       "\n",
       "            tempo  time_signature  explicit  user_id_encoded  gender_encoded  \\\n",
       "10861  115.661939             4.0       0.0             4069               1   \n",
       "10862  124.700947             4.0       0.0             4069               1   \n",
       "10863   87.388500             4.0       0.0             4069               1   \n",
       "10864  148.443286             4.0       0.0             4069               1   \n",
       "\n",
       "       genre_encoded  track_encoded  \n",
       "10861             10           6876  \n",
       "10862              2           5665  \n",
       "10863             17           7626  \n",
       "10864              9          10939  \n",
       "\n",
       "[4 rows x 28 columns]"
      ]
     },
     "execution_count": 13,
     "metadata": {},
     "output_type": "execute_result"
    }
   ],
   "source": [
    "data[data['user_id'] == random_user_id]\n"
   ]
  },
  {
   "cell_type": "code",
   "execution_count": 14,
   "metadata": {},
   "outputs": [
    {
     "ename": "NameError",
     "evalue": "name 'model' is not defined",
     "output_type": "error",
     "traceback": [
      "\u001b[0;31m---------------------------------------------------------------------------\u001b[0m",
      "\u001b[0;31mNameError\u001b[0m                                 Traceback (most recent call last)",
      "Cell \u001b[0;32mIn[14], line 7\u001b[0m\n\u001b[1;32m      3\u001b[0m top_k \u001b[38;5;241m=\u001b[39m \u001b[38;5;241m10\u001b[39m\n\u001b[1;32m      5\u001b[0m \u001b[38;5;28;01mtry\u001b[39;00m:\n\u001b[1;32m      6\u001b[0m     recommended_items \u001b[38;5;241m=\u001b[39m get_recommendations(\n\u001b[0;32m----> 7\u001b[0m         model\u001b[38;5;241m=\u001b[39m\u001b[43mmodel\u001b[49m,\n\u001b[1;32m      8\u001b[0m         user_id\u001b[38;5;241m=\u001b[39muser_id,\n\u001b[1;32m      9\u001b[0m         data_encoded\u001b[38;5;241m=\u001b[39mdata_encoded,\n\u001b[1;32m     10\u001b[0m         user_id_encoder\u001b[38;5;241m=\u001b[39mpreprocessor\u001b[38;5;241m.\u001b[39muser_id_encoder,\n\u001b[1;32m     11\u001b[0m         item_encoder\u001b[38;5;241m=\u001b[39mpreprocessor\u001b[38;5;241m.\u001b[39mmusic_id_encoder,\n\u001b[1;32m     12\u001b[0m         device\u001b[38;5;241m=\u001b[39mdevice,\n\u001b[1;32m     13\u001b[0m         top_k\u001b[38;5;241m=\u001b[39mtop_k\n\u001b[1;32m     14\u001b[0m     )\n\u001b[1;32m     15\u001b[0m     \u001b[38;5;28mprint\u001b[39m(\u001b[38;5;124mf\u001b[39m\u001b[38;5;124m\"\u001b[39m\u001b[38;5;124mTop \u001b[39m\u001b[38;5;132;01m{\u001b[39;00mtop_k\u001b[38;5;132;01m}\u001b[39;00m\u001b[38;5;124m recommendations for user \u001b[39m\u001b[38;5;132;01m{\u001b[39;00muser_id\u001b[38;5;132;01m}\u001b[39;00m\u001b[38;5;124m:\u001b[39m\u001b[38;5;124m\"\u001b[39m)\n\u001b[1;32m     16\u001b[0m     \u001b[38;5;28;01mfor\u001b[39;00m idx, item \u001b[38;5;129;01min\u001b[39;00m \u001b[38;5;28menumerate\u001b[39m(recommended_items, start\u001b[38;5;241m=\u001b[39m\u001b[38;5;241m1\u001b[39m):\n",
      "\u001b[0;31mNameError\u001b[0m: name 'model' is not defined"
     ]
    }
   ],
   "source": [
    "# Define user ID for whom recommendations are to be generated\n",
    "user_id = '2456'  # Replace with an actual user ID from your dataset\n",
    "top_k = 10\n",
    "\n",
    "try:\n",
    "    recommended_items = get_recommendations(\n",
    "        model=model,\n",
    "        user_id=user_id,\n",
    "        data_encoded=data_encoded,\n",
    "        user_id_encoder=preprocessor.user_id_encoder,\n",
    "        item_encoder=preprocessor.music_id_encoder,\n",
    "        device=device,\n",
    "        top_k=top_k\n",
    "    )\n",
    "    print(f\"Top {top_k} recommendations for user {user_id}:\")\n",
    "    for idx, item in enumerate(recommended_items, start=1):\n",
    "        print(f\"{idx}. {item}\")\n",
    "except ValueError as ve:\n",
    "    print(ve)"
   ]
  },
  {
   "cell_type": "code",
   "execution_count": 15,
   "metadata": {},
   "outputs": [
    {
     "data": {
      "text/plain": [
       "0        83811\n",
       "1        83811\n",
       "2        13397\n",
       "3        70645\n",
       "4        70645\n",
       "         ...  \n",
       "19969    74433\n",
       "19970    74433\n",
       "19971    94134\n",
       "19972    78124\n",
       "19973    78124\n",
       "Name: user_id, Length: 19974, dtype: int64"
      ]
     },
     "execution_count": 15,
     "metadata": {},
     "output_type": "execute_result"
    }
   ],
   "source": [
    "data['user_id']"
   ]
  },
  {
   "cell_type": "code",
   "execution_count": 16,
   "metadata": {},
   "outputs": [
    {
     "data": {
      "text/html": [
       "<div>\n",
       "<style scoped>\n",
       "    .dataframe tbody tr th:only-of-type {\n",
       "        vertical-align: middle;\n",
       "    }\n",
       "\n",
       "    .dataframe tbody tr th {\n",
       "        vertical-align: top;\n",
       "    }\n",
       "\n",
       "    .dataframe thead th {\n",
       "        text-align: right;\n",
       "    }\n",
       "</style>\n",
       "<table border=\"1\" class=\"dataframe\">\n",
       "  <thead>\n",
       "    <tr style=\"text-align: right;\">\n",
       "      <th></th>\n",
       "      <th>user_id</th>\n",
       "      <th>age</th>\n",
       "      <th>gender</th>\n",
       "      <th>music</th>\n",
       "      <th>artist_name</th>\n",
       "      <th>featured_artists</th>\n",
       "      <th>genre</th>\n",
       "      <th>plays</th>\n",
       "      <th>duration</th>\n",
       "      <th>music_id</th>\n",
       "      <th>...</th>\n",
       "      <th>instrumentalness</th>\n",
       "      <th>liveness</th>\n",
       "      <th>valence</th>\n",
       "      <th>tempo</th>\n",
       "      <th>time_signature</th>\n",
       "      <th>explicit</th>\n",
       "      <th>user_id_encoded</th>\n",
       "      <th>gender_encoded</th>\n",
       "      <th>genre_encoded</th>\n",
       "      <th>track_encoded</th>\n",
       "    </tr>\n",
       "  </thead>\n",
       "  <tbody>\n",
       "    <tr>\n",
       "      <th>0</th>\n",
       "      <td>83811</td>\n",
       "      <td>16</td>\n",
       "      <td>F</td>\n",
       "      <td>Bank Account</td>\n",
       "      <td>21 Savage</td>\n",
       "      <td>Birdy, Zoé</td>\n",
       "      <td>Dark Trap</td>\n",
       "      <td>11</td>\n",
       "      <td>3.67</td>\n",
       "      <td>2fQrGHiQOvpL9UgPvtYy6G</td>\n",
       "      <td>...</td>\n",
       "      <td>0.000007</td>\n",
       "      <td>0.087100</td>\n",
       "      <td>0.376000</td>\n",
       "      <td>75.016000</td>\n",
       "      <td>4.0</td>\n",
       "      <td>1.0</td>\n",
       "      <td>8175</td>\n",
       "      <td>0</td>\n",
       "      <td>5</td>\n",
       "      <td>3936</td>\n",
       "    </tr>\n",
       "    <tr>\n",
       "      <th>1</th>\n",
       "      <td>83811</td>\n",
       "      <td>16</td>\n",
       "      <td>F</td>\n",
       "      <td>Little Talks</td>\n",
       "      <td>Of Monsters and Men</td>\n",
       "      <td>Ninho, Snoop Dogg, Russ, Paramore</td>\n",
       "      <td>Unknown</td>\n",
       "      <td>686</td>\n",
       "      <td>4.44</td>\n",
       "      <td>2ihCaVdNZmnHZWt0fvAM7B</td>\n",
       "      <td>...</td>\n",
       "      <td>0.000000</td>\n",
       "      <td>0.284500</td>\n",
       "      <td>0.413000</td>\n",
       "      <td>101.890500</td>\n",
       "      <td>4.0</td>\n",
       "      <td>0.0</td>\n",
       "      <td>8175</td>\n",
       "      <td>0</td>\n",
       "      <td>20</td>\n",
       "      <td>4020</td>\n",
       "    </tr>\n",
       "    <tr>\n",
       "      <th>2</th>\n",
       "      <td>13397</td>\n",
       "      <td>17</td>\n",
       "      <td>M</td>\n",
       "      <td>Wherever I Go</td>\n",
       "      <td>OneRepublic</td>\n",
       "      <td>Keith Urban, DJ Khaled, NIKI, MF DOOM</td>\n",
       "      <td>Unknown</td>\n",
       "      <td>136</td>\n",
       "      <td>2.83</td>\n",
       "      <td>46jLy47W8rkf8rEX04gMKB</td>\n",
       "      <td>...</td>\n",
       "      <td>0.043432</td>\n",
       "      <td>0.273133</td>\n",
       "      <td>0.404183</td>\n",
       "      <td>120.850500</td>\n",
       "      <td>4.0</td>\n",
       "      <td>0.0</td>\n",
       "      <td>1294</td>\n",
       "      <td>1</td>\n",
       "      <td>20</td>\n",
       "      <td>6090</td>\n",
       "    </tr>\n",
       "    <tr>\n",
       "      <th>3</th>\n",
       "      <td>70645</td>\n",
       "      <td>44</td>\n",
       "      <td>M</td>\n",
       "      <td>No New Friends</td>\n",
       "      <td>DJ Khaled</td>\n",
       "      <td>The xx, LIT killah</td>\n",
       "      <td>Pop</td>\n",
       "      <td>230</td>\n",
       "      <td>5.14</td>\n",
       "      <td>5oVlbbiKGdGeZkWCFy0mqk</td>\n",
       "      <td>...</td>\n",
       "      <td>0.000000</td>\n",
       "      <td>0.096600</td>\n",
       "      <td>0.400000</td>\n",
       "      <td>109.283000</td>\n",
       "      <td>4.0</td>\n",
       "      <td>0.0</td>\n",
       "      <td>6890</td>\n",
       "      <td>1</td>\n",
       "      <td>13</td>\n",
       "      <td>8577</td>\n",
       "    </tr>\n",
       "    <tr>\n",
       "      <th>4</th>\n",
       "      <td>70645</td>\n",
       "      <td>44</td>\n",
       "      <td>M</td>\n",
       "      <td>Dreams</td>\n",
       "      <td>Campsite Dream</td>\n",
       "      <td>none</td>\n",
       "      <td>Country</td>\n",
       "      <td>391</td>\n",
       "      <td>3.20</td>\n",
       "      <td>1SNoSoQ3JZldOhzBY9gw0n</td>\n",
       "      <td>...</td>\n",
       "      <td>0.235527</td>\n",
       "      <td>0.180354</td>\n",
       "      <td>0.380815</td>\n",
       "      <td>120.488479</td>\n",
       "      <td>4.0</td>\n",
       "      <td>0.0</td>\n",
       "      <td>6890</td>\n",
       "      <td>1</td>\n",
       "      <td>3</td>\n",
       "      <td>2130</td>\n",
       "    </tr>\n",
       "  </tbody>\n",
       "</table>\n",
       "<p>5 rows × 28 columns</p>\n",
       "</div>"
      ],
      "text/plain": [
       "   user_id  age gender           music          artist_name  \\\n",
       "0    83811   16      F    Bank Account            21 Savage   \n",
       "1    83811   16      F    Little Talks  Of Monsters and Men   \n",
       "2    13397   17      M   Wherever I Go          OneRepublic   \n",
       "3    70645   44      M  No New Friends            DJ Khaled   \n",
       "4    70645   44      M          Dreams       Campsite Dream   \n",
       "\n",
       "                        featured_artists      genre  plays  duration  \\\n",
       "0                             Birdy, Zoé  Dark Trap     11      3.67   \n",
       "1      Ninho, Snoop Dogg, Russ, Paramore    Unknown    686      4.44   \n",
       "2  Keith Urban, DJ Khaled, NIKI, MF DOOM    Unknown    136      2.83   \n",
       "3                     The xx, LIT killah        Pop    230      5.14   \n",
       "4                                   none    Country    391      3.20   \n",
       "\n",
       "                 music_id  ... instrumentalness  liveness   valence  \\\n",
       "0  2fQrGHiQOvpL9UgPvtYy6G  ...         0.000007  0.087100  0.376000   \n",
       "1  2ihCaVdNZmnHZWt0fvAM7B  ...         0.000000  0.284500  0.413000   \n",
       "2  46jLy47W8rkf8rEX04gMKB  ...         0.043432  0.273133  0.404183   \n",
       "3  5oVlbbiKGdGeZkWCFy0mqk  ...         0.000000  0.096600  0.400000   \n",
       "4  1SNoSoQ3JZldOhzBY9gw0n  ...         0.235527  0.180354  0.380815   \n",
       "\n",
       "        tempo  time_signature  explicit  user_id_encoded  gender_encoded  \\\n",
       "0   75.016000             4.0       1.0             8175               0   \n",
       "1  101.890500             4.0       0.0             8175               0   \n",
       "2  120.850500             4.0       0.0             1294               1   \n",
       "3  109.283000             4.0       0.0             6890               1   \n",
       "4  120.488479             4.0       0.0             6890               1   \n",
       "\n",
       "   genre_encoded  track_encoded  \n",
       "0              5           3936  \n",
       "1             20           4020  \n",
       "2             20           6090  \n",
       "3             13           8577  \n",
       "4              3           2130  \n",
       "\n",
       "[5 rows x 28 columns]"
      ]
     },
     "execution_count": 16,
     "metadata": {},
     "output_type": "execute_result"
    }
   ],
   "source": [
    "data.head()"
   ]
  },
  {
   "cell_type": "code",
   "execution_count": 17,
   "metadata": {},
   "outputs": [
    {
     "name": "stdout",
     "output_type": "stream",
     "text": [
      "Original user ID: 35\n",
      "Encoded user ID: [2]\n",
      "Encoded user ID [2] not found in encoder.\n"
     ]
    }
   ],
   "source": [
    "# Define user ID for whom recommendations are to be generated\n",
    "user_id = \"35\"  # Replace with an actual user ID from your dataset\n",
    "top_k = 10\n",
    "\n",
    "try:\n",
    "    # Debug: Print the user ID before encoding\n",
    "    print(f\"Original user ID: {user_id}\")\n",
    "\n",
    "    # Debug: Print the encoded user ID\n",
    "    encoded_user_id = preprocessor.user_id_encoder.transform([user_id])\n",
    "    print(f\"Encoded user ID: {encoded_user_id}\")\n",
    "\n",
    "    # Check if the encoded user ID exists in the encoder's classes\n",
    "    if encoded_user_id[0] not in preprocessor.user_id_encoder.classes_:\n",
    "        raise ValueError(f\"Encoded user ID {encoded_user_id} not found in encoder.\")\n",
    "\n",
    "    recommended_items = get_recommendations(\n",
    "        model=model,\n",
    "        user_id=encoded_user_id,\n",
    "        data_encoded=data_encoded,\n",
    "        user_id_encoder=preprocessor.user_id_encoder,\n",
    "        item_encoder=preprocessor.music_id_encoder,\n",
    "        device=device,\n",
    "        top_k=top_k\n",
    "    )\n",
    "    print(f\"Top {top_k} recommendations for user {user_id}:\")\n",
    "    for idx, item in enumerate(recommended_items, start=1):\n",
    "        print(f\"{idx}. {item}\")\n",
    "except ValueError as ve:\n",
    "    print(ve)"
   ]
  },
  {
   "cell_type": "code",
   "execution_count": 18,
   "metadata": {},
   "outputs": [],
   "source": [
    "# print(preprocessor.user_id_encoder.classes_)\n"
   ]
  },
  {
   "cell_type": "code",
   "execution_count": 19,
   "metadata": {},
   "outputs": [
    {
     "data": {
      "text/html": [
       "<div>\n",
       "<style scoped>\n",
       "    .dataframe tbody tr th:only-of-type {\n",
       "        vertical-align: middle;\n",
       "    }\n",
       "\n",
       "    .dataframe tbody tr th {\n",
       "        vertical-align: top;\n",
       "    }\n",
       "\n",
       "    .dataframe thead th {\n",
       "        text-align: right;\n",
       "    }\n",
       "</style>\n",
       "<table border=\"1\" class=\"dataframe\">\n",
       "  <thead>\n",
       "    <tr style=\"text-align: right;\">\n",
       "      <th></th>\n",
       "      <th>user_id</th>\n",
       "      <th>user_id_encoded</th>\n",
       "    </tr>\n",
       "  </thead>\n",
       "  <tbody>\n",
       "    <tr>\n",
       "      <th>0</th>\n",
       "      <td>83811</td>\n",
       "      <td>8175</td>\n",
       "    </tr>\n",
       "    <tr>\n",
       "      <th>1</th>\n",
       "      <td>83811</td>\n",
       "      <td>8175</td>\n",
       "    </tr>\n",
       "    <tr>\n",
       "      <th>2</th>\n",
       "      <td>13397</td>\n",
       "      <td>1294</td>\n",
       "    </tr>\n",
       "    <tr>\n",
       "      <th>3</th>\n",
       "      <td>70645</td>\n",
       "      <td>6890</td>\n",
       "    </tr>\n",
       "    <tr>\n",
       "      <th>4</th>\n",
       "      <td>70645</td>\n",
       "      <td>6890</td>\n",
       "    </tr>\n",
       "    <tr>\n",
       "      <th>...</th>\n",
       "      <td>...</td>\n",
       "      <td>...</td>\n",
       "    </tr>\n",
       "    <tr>\n",
       "      <th>19969</th>\n",
       "      <td>74433</td>\n",
       "      <td>7268</td>\n",
       "    </tr>\n",
       "    <tr>\n",
       "      <th>19970</th>\n",
       "      <td>74433</td>\n",
       "      <td>7268</td>\n",
       "    </tr>\n",
       "    <tr>\n",
       "      <th>19971</th>\n",
       "      <td>94134</td>\n",
       "      <td>9154</td>\n",
       "    </tr>\n",
       "    <tr>\n",
       "      <th>19972</th>\n",
       "      <td>78124</td>\n",
       "      <td>7639</td>\n",
       "    </tr>\n",
       "    <tr>\n",
       "      <th>19973</th>\n",
       "      <td>78124</td>\n",
       "      <td>7639</td>\n",
       "    </tr>\n",
       "  </tbody>\n",
       "</table>\n",
       "<p>19974 rows × 2 columns</p>\n",
       "</div>"
      ],
      "text/plain": [
       "       user_id  user_id_encoded\n",
       "0        83811             8175\n",
       "1        83811             8175\n",
       "2        13397             1294\n",
       "3        70645             6890\n",
       "4        70645             6890\n",
       "...        ...              ...\n",
       "19969    74433             7268\n",
       "19970    74433             7268\n",
       "19971    94134             9154\n",
       "19972    78124             7639\n",
       "19973    78124             7639\n",
       "\n",
       "[19974 rows x 2 columns]"
      ]
     },
     "execution_count": 19,
     "metadata": {},
     "output_type": "execute_result"
    }
   ],
   "source": [
    "data[['user_id','user_id_encoded']]\n"
   ]
  },
  {
   "cell_type": "code",
   "execution_count": 20,
   "metadata": {},
   "outputs": [
    {
     "name": "stdout",
     "output_type": "stream",
     "text": [
      "Original user ID: 35\n",
      "Encoded user ID: [2]\n",
      "Encoded user ID [2] not found in encoder. Handling as OOV...\n",
      "Assigned Default ID for OOV User: [9740]\n",
      "An error occurred: name 'model' is not defined\n"
     ]
    }
   ],
   "source": [
    "\n",
    "try:\n",
    "    # Debug: Print the user ID before encoding\n",
    "    print(f\"Original user ID: {user_id}\")\n",
    "    \n",
    "    # Attempt transformation\n",
    "    encoded_user_id = preprocessor.user_id_encoder.transform([user_id])\n",
    "    print(f\"Encoded user ID: {encoded_user_id}\")\n",
    "    \n",
    "    # Check if the encoded user ID exists in the encoder's classes\n",
    "    if encoded_user_id[0] not in preprocessor.user_id_encoder.classes_:\n",
    "        print(f\"Encoded user ID {encoded_user_id} not found in encoder. Handling as OOV...\")\n",
    "        # Handle OOV user (e.g., assign default ID)\n",
    "        encoded_user_id = [preprocessor.user_id_encoder.classes_.shape[0] - 1]\n",
    "        print(f\"Assigned Default ID for OOV User: {encoded_user_id}\")\n",
    "    \n",
    "    recommended_items = get_recommendations(\n",
    "        model=model,\n",
    "        user_id=user_id,  # Pass original user ID for logging clarity\n",
    "        encoded_user_id=encoded_user_id,  # Updated to reflect potential OOV handling\n",
    "        data_encoded=data_encoded,\n",
    "        user_id_encoder=preprocessor.user_id_encoder,\n",
    "        item_encoder=preprocessor.music_id_encoder,\n",
    "        device=device,\n",
    "        top_k=top_k\n",
    "    )\n",
    "    print(f\"Top {top_k} recommendations for user {user_id}:\")\n",
    "    for idx, item in enumerate(recommended_items, start=1):\n",
    "        print(f\"{idx}. {item}\")\n",
    "except Exception as e:\n",
    "    print(f\"An error occurred: {e}\")"
   ]
  },
  {
   "cell_type": "code",
   "execution_count": 4,
   "metadata": {},
   "outputs": [
    {
     "name": "stdout",
     "output_type": "stream",
     "text": [
      "An error occurred: name 'user_id' is not defined\n"
     ]
    }
   ],
   "source": [
    "try:\n",
    "    # Debug: Print the user ID before encoding\n",
    "    print(f\"Original user ID: {user_id}\")\n",
    "    \n",
    "    # Attempt transformation\n",
    "    encoded_user_id = preprocessor.user_id_encoder.transform([user_id])\n",
    "    print(f\"Encoded user ID: {encoded_user_id}\")\n",
    "    \n",
    "    # Check if the encoded user ID exists in the encoder's classes\n",
    "    if encoded_user_id[0] not in preprocessor.user_id_encoder.classes_:\n",
    "        print(f\"Encoded user ID {encoded_user_id} not found in encoder. Handling as OOV...\")\n",
    "        # Handle OOV user (e.g., assign default ID)\n",
    "        encoded_user_id = [preprocessor.user_id_encoder.classes_.shape[0] - 1]\n",
    "        print(f\"Assigned Default ID for OOV User: {encoded_user_id}\")\n",
    "    \n",
    "    recommended_items = get_recommendations(\n",
    "        model=model,\n",
    "        user_id=user_id,  # Pass original user ID for logging clarity\n",
    "        # encoded_user_id=encoded_user_id,  // Removed this line\n",
    "        data_encoded=data_encoded,\n",
    "        user_id_encoder=preprocessor.user_id_encoder,\n",
    "        item_encoder=preprocessor.music_id_encoder,\n",
    "        device=device,\n",
    "        top_k=top_k\n",
    "    )\n",
    "    print(f\"Top {top_k} recommendations for user {user_id}:\")\n",
    "    for idx, item in enumerate(recommended_items, start=1):\n",
    "        print(f\"{idx}. {item}\")\n",
    "except Exception as e:\n",
    "    print(f\"An error occurred: {e}\")"
   ]
  },
  {
   "cell_type": "markdown",
   "metadata": {},
   "source": [
    "## 4. Sample Predictions for Users\n"
   ]
  },
  {
   "cell_type": "markdown",
   "metadata": {},
   "source": []
  }
 ],
 "metadata": {
  "kernelspec": {
   "display_name": "ReNeLLM",
   "language": "python",
   "name": "python3"
  },
  "language_info": {
   "codemirror_mode": {
    "name": "ipython",
    "version": 3
   },
   "file_extension": ".py",
   "mimetype": "text/x-python",
   "name": "python",
   "nbconvert_exporter": "python",
   "pygments_lexer": "ipython3",
   "version": "3.9.20"
  }
 },
 "nbformat": 4,
 "nbformat_minor": 2
}
